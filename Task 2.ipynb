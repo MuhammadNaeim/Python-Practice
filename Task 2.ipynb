{
  "metadata": {
    "kernelspec": {
      "name": "python",
      "display_name": "Python (Pyodide)",
      "language": "python"
    },
    "language_info": {
      "codemirror_mode": {
        "name": "python",
        "version": 3
      },
      "file_extension": ".py",
      "mimetype": "text/x-python",
      "name": "python",
      "nbconvert_exporter": "python",
      "pygments_lexer": "ipython3",
      "version": "3.8"
    }
  },
  "nbformat_minor": 4,
  "nbformat": 4,
  "cells": [
    {
      "cell_type": "markdown",
      "source": "# Question 1:\nDefine a function which can print a dictionary where the keys are numbers between 1 and 3 (both included) and the values are square of keys.\n\nHints:\n\nUse dict[key]=value pattern to put entry into a dictionary.\nUse ** operator to get power of a number.",
      "metadata": {}
    },
    {
      "cell_type": "code",
      "source": "def dict():\n    dict={}\n    for i in range(1,4):\n        dict[i]=i**2\n    print(dict)",
      "metadata": {},
      "execution_count": null,
      "outputs": []
    },
    {
      "cell_type": "markdown",
      "source": "# Question 2:\nDefine a function which can generate a dictionary where the keys are numbers between 1 and 20 (both included) and the values are square of keys. The function should just print the values only.\n\nHints:\n\nUse dict[key]=value pattern to put entry into a dictionary.\nUse ** operator to get power of a number.\nUse range() for loops.\nUse keys() to iterate keys in the dictionary. Also we can use item() to get key/value pairs.\n",
      "metadata": {}
    },
    {
      "cell_type": "code",
      "source": "def dict():\n    dict={}\n    for i in range(1,21):\n        dict[i]=i**2\n    for key, value in dict.items():\n        print(value)\ndict()",
      "metadata": {
        "trusted": true
      },
      "execution_count": null,
      "outputs": []
    },
    {
      "cell_type": "markdown",
      "source": "# Question 3:\nDefine a function which can generate a dictionary where the keys are numbers between 1 and 20 (both included) and the values are square of keys. The function should just print the keys only.\n\nHints:\n\nUse dict[key]=value pattern to put entry into a dictionary.\nUse ** operator to get power of a number.\nUse range() for loops.\nUse keys() to iterate keys in the dictionary. Also we can use item() to get key/value pairs.\n",
      "metadata": {}
    },
    {
      "cell_type": "code",
      "source": "def dict():\n    dict={}\n    for i in range(1,21):\n        dict[i]=i**2\n    for key, value in dict.items():\n        print(key)\ndict()",
      "metadata": {},
      "execution_count": null,
      "outputs": []
    },
    {
      "cell_type": "markdown",
      "source": "# Question 4 \nWrite a Python program to check a dictionary is empty or not",
      "metadata": {}
    },
    {
      "cell_type": "code",
      "source": "def empty(x):\n    ",
      "metadata": {},
      "execution_count": null,
      "outputs": []
    },
    {
      "cell_type": "markdown",
      "source": "# Question 5\n\nWrite a Python program to test whether every element in s is in t and every element in t is in s.\n\n",
      "metadata": {}
    },
    {
      "cell_type": "code",
      "source": "def empty_dict(x):\n    dict = x\n    if dict:\n        print(\"Dictionary is not empty!\")\n    else:\n        print(\"Dictionary is empty!\")\nempty_dict({1:2})",
      "metadata": {},
      "execution_count": null,
      "outputs": []
    },
    {
      "cell_type": "markdown",
      "source": "# Question 6\nCreate set 1 and set 2 then \nWrite a Python program to 1- create an intersection of sets.\n2-  a union of sets.\n3- create set difference.\n4- a symmetric difference.",
      "metadata": {}
    },
    {
      "cell_type": "code",
      "source": "a = {0, 2, 4, 6, 8}\nb = {1, 2, 3, 4, 5}\nprint(\"Union :\", a | b)\nprint(\"Intersection :\", a & b)\nprint(\"Difference :\", a - b)\nprint(\"Symmetric difference :\", a ^ b)",
      "metadata": {},
      "execution_count": null,
      "outputs": []
    },
    {
      "cell_type": "markdown",
      "source": "# Question  7\nWrite a Python program to use of frozensets.",
      "metadata": {}
    },
    {
      "cell_type": "code",
      "source": "a = {0, 2, 4, 6, 8}\nb=max(a)",
      "metadata": {
        "trusted": true
      },
      "execution_count": null,
      "outputs": []
    },
    {
      "cell_type": "markdown",
      "source": "# Question 8\nWrite a Python program to find maximum and the minimum value in a set.",
      "metadata": {}
    },
    {
      "cell_type": "code",
      "source": "a = {0, 2, 4, 6, 8}\nb=max(a)\nc=min(a)\nprint(b,c)",
      "metadata": {},
      "execution_count": null,
      "outputs": []
    },
    {
      "cell_type": "markdown",
      "source": "# Question9 :\nWith a given tuple (1,2,3,4,5,6,7,8,9,10), write a program to print the first half values in one line and the last half values in one line. \n\nHints:\n\nUse [n1:n2] notation to get a slice from a tuple.",
      "metadata": {}
    },
    {
      "cell_type": "code",
      "source": "t = (1,2,3,4,5,6,7,8,9,10)\na= t[:5]\nb= t[6:]\nprint(a,b)",
      "metadata": {},
      "execution_count": null,
      "outputs": []
    },
    {
      "cell_type": "markdown",
      "source": "# Question 10 :\nYou are required to write a program to sort the (name, age, height) tuples by ascending order where name is string, age and height are numbers. The tuples are input by console. The sort criteria is:\n1: Sort based on name;\n2: Then sort based on age;\n3: Then sort by score.\nThe priority is that name > age > score.\nIf the following tuples are given as input to the program:\nTom,19,80\nJohn,20,90\nJony,17,91\nJony,17,93\nJson,21,85\nThen, the output of the program should be:\n[('John', '20', '90'), ('Jony', '17', '91'), ('Jony', '17', '93'), ('Json', '21', '85'), ('Tom', '19', '80')]\n\nHints:\nIn case of input data being supplied to the question, it should be assumed to be a console input.\nWe use itemgetter to enable multiple sort keys.\n\nSolutions:\nfrom operator import itemgetter, attrgetter\n",
      "metadata": {}
    },
    {
      "cell_type": "code",
      "source": "",
      "metadata": {},
      "execution_count": null,
      "outputs": []
    },
    {
      "cell_type": "markdown",
      "source": "# Question 11:\n\nPlease write a program to generate a list with 5 random numbers between 100 and 200 inclusive.\n\n\n\nHints:\nUse random.sample() to generate a list of random values.",
      "metadata": {}
    },
    {
      "cell_type": "code",
      "source": "import random\nprint(random.sample([i for i in range(100,201)], 5))",
      "metadata": {
        "trusted": true
      },
      "execution_count": null,
      "outputs": []
    },
    {
      "cell_type": "markdown",
      "source": "# Question 12\nPlease write a program to randomly generate a list with 5 even numbers between 100 and 200 inclusive.\n\nHints:\nUse random.sample() to generate a list of random values.",
      "metadata": {}
    },
    {
      "cell_type": "code",
      "source": "import random\nprint(random.sample([i for i in range(100,201) if i%2==0], 5))",
      "metadata": {},
      "execution_count": null,
      "outputs": []
    },
    {
      "cell_type": "markdown",
      "source": "# Question 13\nPlease write a program to randomly print a integer number between 7 and 15 inclusive.\n\nHints: Use random.randrange() to a random integer in a given range.\n\n",
      "metadata": {}
    },
    {
      "cell_type": "code",
      "source": "import random\nprint(random.randrange(7,16,1))",
      "metadata": {},
      "execution_count": null,
      "outputs": []
    },
    {
      "cell_type": "markdown",
      "source": "# Question 14\n\nPlease write a program to print the running time of execution of \"1+1\" for 100 times.\nHints:\nUse timeit() function to measure the running time.\n",
      "metadata": {}
    },
    {
      "cell_type": "code",
      "source": "",
      "metadata": {},
      "execution_count": null,
      "outputs": []
    },
    {
      "cell_type": "markdown",
      "source": "# Question 15 :\n\nPlease write a program to shuffle and print the list [3,6,7,8].\n\nHints:\nUse shuffle() function to shuffle a list.\n",
      "metadata": {}
    },
    {
      "cell_type": "code",
      "source": "from random import shuffle\na=[3,6,7,8]\nshuffle(a)\nprint(a)",
      "metadata": {},
      "execution_count": null,
      "outputs": []
    }
  ]
}