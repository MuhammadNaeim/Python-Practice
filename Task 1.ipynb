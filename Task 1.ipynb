{
  "cells": [
    {
      "cell_type": "markdown",
      "metadata": {},
      "source": [
        "# Task 1 ( Basics )"
      ]
    },
    {
      "cell_type": "markdown",
      "metadata": {},
      "source": [
        "# Question 1 :\n",
        "Define a function which can compute the sum of two numbers.\n",
        "\n",
        "Hints:\n",
        "Define a function with two numbers as arguments. You can compute the sum in the function and return the value."
      ]
    },
    {
      "cell_type": "code",
      "execution_count": 3,
      "metadata": {
        "trusted": true
      },
      "outputs": [
        {
          "data": {
            "text/plain": [
              "7"
            ]
          },
          "execution_count": 3,
          "metadata": {},
          "output_type": "execute_result"
        }
      ],
      "source": [
        "def add(x,y):\n",
        "    return x+y\n",
        "add(5,2)"
      ]
    },
    {
      "cell_type": "markdown",
      "metadata": {},
      "source": [
        "# Question 2:\n",
        "\n",
        "    Write a method which can calculate square value of number\n",
        "\n",
        "Hints:\n",
        "    Using the ** operator\n"
      ]
    },
    {
      "cell_type": "code",
      "execution_count": 4,
      "metadata": {
        "trusted": true
      },
      "outputs": [
        {
          "data": {
            "text/plain": [
              "25"
            ]
          },
          "execution_count": 4,
          "metadata": {},
          "output_type": "execute_result"
        }
      ],
      "source": [
        "def power(x):\n",
        "    return x**2\n",
        "power(5)"
      ]
    },
    {
      "cell_type": "markdown",
      "metadata": {},
      "source": [
        "# Question 3\n",
        "Define a function that can convert a integer into a string and print it in console.\n",
        "\n",
        "Hints:\n",
        "\n",
        "Use str() to convert a number to string."
      ]
    },
    {
      "cell_type": "code",
      "execution_count": 5,
      "metadata": {
        "trusted": true
      },
      "outputs": [
        {
          "data": {
            "text/plain": [
              "'5'"
            ]
          },
          "execution_count": 5,
          "metadata": {},
          "output_type": "execute_result"
        }
      ],
      "source": [
        "def int_to_str(x):\n",
        "    return str(x)\n",
        "int_to_str(5)"
      ]
    },
    {
      "cell_type": "markdown",
      "metadata": {},
      "source": [
        "# Question 4 :\n",
        "Define a function that can receive two integral numbers in string form and compute their sum and then print it in console.\n",
        "\n",
        "Hints:\n",
        "\n",
        "Use int() to convert a string to integer."
      ]
    },
    {
      "cell_type": "code",
      "execution_count": 6,
      "metadata": {
        "trusted": true
      },
      "outputs": [
        {
          "data": {
            "text/plain": [
              "11"
            ]
          },
          "execution_count": 6,
          "metadata": {},
          "output_type": "execute_result"
        }
      ],
      "source": [
        "def add_str_to_int(x,y):\n",
        "    x=int(x)\n",
        "    y=int(y)\n",
        "    return x+y\n",
        "add_str_to_int('5','6')"
      ]
    },
    {
      "cell_type": "markdown",
      "metadata": {},
      "source": [
        "# Question 5 :\n",
        "Define a function that can accept two strings as input and concatenate them and then print it in console.\n",
        "\n",
        "Hints:\n",
        "\n",
        "Use + to concatenate the strings\n"
      ]
    },
    {
      "cell_type": "code",
      "execution_count": 7,
      "metadata": {},
      "outputs": [
        {
          "data": {
            "text/plain": [
              "'mohamed'"
            ]
          },
          "execution_count": 7,
          "metadata": {},
          "output_type": "execute_result"
        }
      ],
      "source": [
        "def concat(x,y):\n",
        "    return x+y\n",
        "concat('moh','amed')"
      ]
    },
    {
      "cell_type": "markdown",
      "metadata": {},
      "source": [
        "# Question 6 :\n",
        "Define a function that can accept two strings as input and print the string with maximum length in console. If two strings have the same length, then the function should print al l strings line by line.\n",
        "\n",
        "Hints:\n",
        "\n",
        "Use len() function to get the length of a string"
      ]
    },
    {
      "cell_type": "code",
      "execution_count": 8,
      "metadata": {},
      "outputs": [
        {
          "name": "stdout",
          "output_type": "stream",
          "text": [
            "mohamed\n"
          ]
        }
      ],
      "source": [
        "def max_len(x,y):\n",
        "    w=len(x)\n",
        "    z=len(y)\n",
        "    if w==z:\n",
        "        print(x,y)\n",
        "    elif w>z:\n",
        "        print(x)\n",
        "    else:\n",
        "        print(y)\n",
        "max_len('mohamed','naim')"
      ]
    },
    {
      "cell_type": "markdown",
      "metadata": {},
      "source": [
        "# Question 7 :\n",
        "Define a function that can accept an integer number as input and print the \"It is an even number\" if the number is even, otherwise print \"It is an odd number\".\n",
        "\n",
        "Hints:\n",
        "\n",
        "Use % operator to check if a number is even or odd."
      ]
    },
    {
      "cell_type": "code",
      "execution_count": 10,
      "metadata": {},
      "outputs": [
        {
          "name": "stdout",
          "output_type": "stream",
          "text": [
            "it is an even number\n"
          ]
        }
      ],
      "source": [
        "def even(x):\n",
        "    y=x%2\n",
        "    if y==0:\n",
        "        print('it is an even number')\n",
        "    else:\n",
        "        print('it is an odd number')\n",
        "even(2)"
      ]
    },
    {
      "cell_type": "markdown",
      "metadata": {},
      "source": [
        "# Question 8 :\n",
        "Write a program which accepts a string as input to print \"Yes\" if the string is \"yes\" or \"YES\" or \"Yes\", otherwise print \"No\". \n",
        "\n",
        "Hints:\n",
        "\n",
        "Use if statement to judge condition."
      ]
    },
    {
      "cell_type": "code",
      "execution_count": 11,
      "metadata": {
        "trusted": true
      },
      "outputs": [
        {
          "name": "stdout",
          "output_type": "stream",
          "text": [
            "Yes\n"
          ]
        }
      ],
      "source": [
        "def yes(x):\n",
        "    if x=='yes' or 'YES' or 'Yes':\n",
        "        print('Yes')\n",
        "    else:\n",
        "        print('No')\n",
        "yes('YES')"
      ]
    },
    {
      "cell_type": "markdown",
      "metadata": {},
      "source": [
        "# Question 9 :\n",
        "Write a program which will find all such numbers which are divisible by 7 but are not a multiple of 5,\n",
        "between 2000 and 3200 (both included).\n",
        "The numbers obtained should be printed in a comma-separated sequence on a single line.\n",
        "\n",
        "Hints: \n",
        "Consider use range(#begin, #end) method"
      ]
    },
    {
      "cell_type": "code",
      "execution_count": 13,
      "metadata": {},
      "outputs": [
        {
          "name": "stdout",
          "output_type": "stream",
          "text": [
            "2002\n",
            "2009\n",
            "2016\n",
            "2023\n",
            "2030\n",
            "2037\n",
            "2044\n",
            "2051\n",
            "2058\n",
            "2065\n",
            "2072\n",
            "2079\n",
            "2086\n",
            "2093\n",
            "2100\n",
            "2107\n",
            "2114\n",
            "2121\n",
            "2128\n",
            "2135\n",
            "2142\n",
            "2149\n",
            "2156\n",
            "2163\n",
            "2170\n",
            "2177\n",
            "2184\n",
            "2191\n",
            "2198\n",
            "2205\n",
            "2212\n",
            "2219\n",
            "2226\n",
            "2233\n",
            "2240\n",
            "2247\n",
            "2254\n",
            "2261\n",
            "2268\n",
            "2275\n",
            "2282\n",
            "2289\n",
            "2296\n",
            "2303\n",
            "2310\n",
            "2317\n",
            "2324\n",
            "2331\n",
            "2338\n",
            "2345\n",
            "2352\n",
            "2359\n",
            "2366\n",
            "2373\n",
            "2380\n",
            "2387\n",
            "2394\n",
            "2401\n",
            "2408\n",
            "2415\n",
            "2422\n",
            "2429\n",
            "2436\n",
            "2443\n",
            "2450\n",
            "2457\n",
            "2464\n",
            "2471\n",
            "2478\n",
            "2485\n",
            "2492\n",
            "2499\n",
            "2506\n",
            "2513\n",
            "2520\n",
            "2527\n",
            "2534\n",
            "2541\n",
            "2548\n",
            "2555\n",
            "2562\n",
            "2569\n",
            "2576\n",
            "2583\n",
            "2590\n",
            "2597\n",
            "2604\n",
            "2611\n",
            "2618\n",
            "2625\n",
            "2632\n",
            "2639\n",
            "2646\n",
            "2653\n",
            "2660\n",
            "2667\n",
            "2674\n",
            "2681\n",
            "2688\n",
            "2695\n",
            "2702\n",
            "2709\n",
            "2716\n",
            "2723\n",
            "2730\n",
            "2737\n",
            "2744\n",
            "2751\n",
            "2758\n",
            "2765\n",
            "2772\n",
            "2779\n",
            "2786\n",
            "2793\n",
            "2800\n",
            "2807\n",
            "2814\n",
            "2821\n",
            "2828\n",
            "2835\n",
            "2842\n",
            "2849\n",
            "2856\n",
            "2863\n",
            "2870\n",
            "2877\n",
            "2884\n",
            "2891\n",
            "2898\n",
            "2905\n",
            "2912\n",
            "2919\n",
            "2926\n",
            "2933\n",
            "2940\n",
            "2947\n",
            "2954\n",
            "2961\n",
            "2968\n",
            "2975\n",
            "2982\n",
            "2989\n",
            "2996\n",
            "3003\n",
            "3010\n",
            "3017\n",
            "3024\n",
            "3031\n",
            "3038\n",
            "3045\n",
            "3052\n",
            "3059\n",
            "3066\n",
            "3073\n",
            "3080\n",
            "3087\n",
            "3094\n",
            "3101\n",
            "3108\n",
            "3115\n",
            "3122\n",
            "3129\n",
            "3136\n",
            "3143\n",
            "3150\n",
            "3157\n",
            "3164\n",
            "3171\n",
            "3178\n",
            "3185\n",
            "3192\n",
            "3199\n"
          ]
        }
      ],
      "source": [
        "def by7():\n",
        "    for num in range(2000,3201):\n",
        "        if num%7==0:\n",
        "            print(num)\n",
        "by7()"
      ]
    },
    {
      "cell_type": "markdown",
      "metadata": {},
      "source": [
        "# Question 10 :\n",
        "Write a program which can compute the factorial of a given numbers.\n",
        "The results should be printed in a comma-separated sequence on a single line.\n",
        "Suppose the following input is supplied to the program:\n",
        "8\n",
        "Then, the output should be:\n",
        "40320\n",
        "\n",
        "Hints:\n",
        "In case of input data being supplied to the question, it should be assumed to be a console input."
      ]
    },
    {
      "cell_type": "code",
      "execution_count": 14,
      "metadata": {},
      "outputs": [
        {
          "name": "stdout",
          "output_type": "stream",
          "text": [
            "40320\n"
          ]
        }
      ],
      "source": [
        "def fact(x):\n",
        "    result=1\n",
        "    for i in range(1,x+1):\n",
        "        result *= i\n",
        "    print(result)\n",
        "fact(8)"
      ]
    },
    {
      "cell_type": "markdown",
      "metadata": {},
      "source": [
        "# Question 11 :\n",
        "Write a program that computes the value of a+aa+aaa+aaaa with a given digit as the value of a.\n",
        "Suppose the following input is supplied to the program:\n",
        "9\n",
        "Then, the output should be:\n",
        "11106\n",
        "\n",
        "Hints:\n",
        "In case of input data being supplied to the question, it should be assumed to be a console input.\n"
      ]
    },
    {
      "cell_type": "code",
      "execution_count": null,
      "metadata": {},
      "outputs": [],
      "source": []
    }
  ],
  "metadata": {
    "kernelspec": {
      "display_name": "Python 3.8.10 64-bit",
      "language": "python",
      "name": "python3"
    },
    "language_info": {
      "codemirror_mode": {
        "name": "ipython",
        "version": 3
      },
      "file_extension": ".py",
      "mimetype": "text/x-python",
      "name": "python",
      "nbconvert_exporter": "python",
      "pygments_lexer": "ipython3",
      "version": "3.8.10-final"
    },
    "vscode": {
      "interpreter": {
        "hash": "36ac1b0321c3ce47a02e583ee9e68477143e41abc90401050e65ad33a97dab0d"
      }
    }
  },
  "nbformat": 4,
  "nbformat_minor": 4
}
